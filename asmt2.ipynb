{
 "cells": [
  {
   "cell_type": "code",
   "execution_count": 1,
   "id": "a4dcdd60",
   "metadata": {},
   "outputs": [],
   "source": [
    "import numpy as np\n",
    "import pandas as pd\n",
    "from sklearn.preprocessing import MinMaxScaler\n",
    "from sklearn.model_selection import train_test_split\n",
    "from tensorflow.keras import optimizers\n",
    "from keras.models import load_model\n",
    "from keras.models import Sequential\n",
    "from keras.layers import Dense\n",
    "import matplotlib.pyplot as plt"
   ]
  },
  {
   "cell_type": "code",
   "execution_count": 25,
   "id": "a529420a",
   "metadata": {},
   "outputs": [],
   "source": [
    "spotify = pd.read_csv('songs_normalize.csv', usecols=[2,3,5,6,7,8,9,10,11,12,13,14,15,16])\n",
    "spotify['explicit'] = spotify['explicit']*1\n",
    "# spotify = pd.DataFrame({'duration':_arg1, 'explicit':arg2, 'danceability':_arg3, 'energy':_arg4, 'key':_arg5, 'loudness':_arg5, 'mode':_arg6, 'speechiness':_arg7, 'acousticness':_arg8, 'instrumentalness':_arg9, 'liveness':_arg10, 'valence':_arg11, 'tempo':_arg12, 'popularity':_arg13})"
   ]
  },
  {
   "cell_type": "code",
   "execution_count": 26,
   "id": "ef9197d5",
   "metadata": {},
   "outputs": [],
   "source": [
    "x = np.array(spotify.iloc[:,np.r_[0,1,3:14]])\n",
    "y = np.array(spotify['popularity'])"
   ]
  },
  {
   "cell_type": "code",
   "execution_count": 27,
   "id": "a18b8e97",
   "metadata": {},
   "outputs": [],
   "source": [
    "min_max_scaler = MinMaxScaler()\n",
    "x = min_max_scaler.fit_transform(x)\n",
    "y = min_max_scaler.fit_transform(y.reshape(-1,1))"
   ]
  },
  {
   "cell_type": "code",
   "execution_count": 28,
   "id": "8f1ba881",
   "metadata": {},
   "outputs": [],
   "source": [
    "x_train, x_test, y_train, y_test = train_test_split(x, y ,test_size = 0.2)"
   ]
  },
  {
   "cell_type": "code",
   "execution_count": 29,
   "id": "1f3774d5",
   "metadata": {},
   "outputs": [],
   "source": [
    "# Hyper Parameters\n",
    "loss = 'mean_squared_error'\n",
    "optimizer = optimizers.SGD(learning_rate=0.001, momentum=0.9)\n",
    "batch_size = 20\n",
    "epoch = 20"
   ]
  },
  {
   "cell_type": "code",
   "execution_count": 8,
   "id": "1e2e1de0",
   "metadata": {},
   "outputs": [],
   "source": [
    "model = Sequential()\n",
    "model.add(Dense(units=13, activation='relu', input_dim=13))\n",
    "model.add(Dense(units=26, activation='relu', input_dim=13))\n",
    "model.add(Dense(units=1, activation='relu'))"
   ]
  },
  {
   "cell_type": "code",
   "execution_count": 31,
   "id": "77b37e04",
   "metadata": {},
   "outputs": [],
   "source": [
    "def training_process(model, loss, optimizer, batch_size, epoch):\n",
    "    model.compile(loss=loss,\n",
    "                    optimizer=optimizer)\n",
    "    history = model.fit(x_train, y_train, epochs=epoch, batch_size=batch_size)\n",
    "    return history"
   ]
  },
  {
   "cell_type": "code",
   "execution_count": 32,
   "id": "ae38186a",
   "metadata": {},
   "outputs": [
    {
     "name": "stdout",
     "output_type": "stream",
     "text": [
      "Epoch 1/20\n",
      "62/80 [======================>.......] - ETA: 0s - loss: 0.1255"
     ]
    },
    {
     "name": "stderr",
     "output_type": "stream",
     "text": [
      "2022-07-23 19:22:50.070632: I tensorflow/core/grappler/optimizers/custom_graph_optimizer_registry.cc:113] Plugin optimizer for device_type GPU is enabled.\n"
     ]
    },
    {
     "name": "stdout",
     "output_type": "stream",
     "text": [
      "80/80 [==============================] - 0s 3ms/step - loss: 0.1141\n",
      "Epoch 2/20\n",
      "80/80 [==============================] - 0s 3ms/step - loss: 0.0698\n",
      "Epoch 3/20\n",
      "80/80 [==============================] - 0s 3ms/step - loss: 0.0656\n",
      "Epoch 4/20\n",
      "80/80 [==============================] - 0s 2ms/step - loss: 0.0630\n",
      "Epoch 5/20\n",
      "80/80 [==============================] - 0s 2ms/step - loss: 0.0618\n",
      "Epoch 6/20\n",
      "80/80 [==============================] - 0s 2ms/step - loss: 0.0607\n",
      "Epoch 7/20\n",
      "80/80 [==============================] - 0s 2ms/step - loss: 0.0600\n",
      "Epoch 8/20\n",
      "80/80 [==============================] - 0s 2ms/step - loss: 0.0595\n",
      "Epoch 9/20\n",
      "80/80 [==============================] - 0s 3ms/step - loss: 0.0588\n",
      "Epoch 10/20\n",
      "80/80 [==============================] - 0s 3ms/step - loss: 0.0588\n",
      "Epoch 11/20\n",
      "80/80 [==============================] - 0s 2ms/step - loss: 0.0586\n",
      "Epoch 12/20\n",
      "80/80 [==============================] - 0s 3ms/step - loss: 0.0583\n",
      "Epoch 13/20\n",
      "80/80 [==============================] - 0s 3ms/step - loss: 0.0585\n",
      "Epoch 14/20\n",
      "80/80 [==============================] - 0s 3ms/step - loss: 0.0582\n",
      "Epoch 15/20\n",
      "80/80 [==============================] - 0s 3ms/step - loss: 0.0581\n",
      "Epoch 16/20\n",
      "80/80 [==============================] - 0s 3ms/step - loss: 0.0579\n",
      "Epoch 17/20\n",
      "80/80 [==============================] - 0s 3ms/step - loss: 0.0576\n",
      "Epoch 18/20\n",
      "80/80 [==============================] - 0s 3ms/step - loss: 0.0576\n",
      "Epoch 19/20\n",
      "80/80 [==============================] - 0s 3ms/step - loss: 0.0576\n",
      "Epoch 20/20\n",
      "80/80 [==============================] - 0s 3ms/step - loss: 0.0577\n"
     ]
    }
   ],
   "source": [
    "history = training_process(model, loss, optimizer, batch_size, epoch)"
   ]
  },
  {
   "cell_type": "code",
   "execution_count": 33,
   "id": "cfd6b279",
   "metadata": {},
   "outputs": [
    {
     "name": "stdout",
     "output_type": "stream",
     "text": [
      "13/13 [==============================] - 0s 3ms/step - loss: 0.0589\n"
     ]
    },
    {
     "name": "stderr",
     "output_type": "stream",
     "text": [
      "2022-07-23 19:23:24.934535: I tensorflow/core/grappler/optimizers/custom_graph_optimizer_registry.cc:113] Plugin optimizer for device_type GPU is enabled.\n"
     ]
    }
   ],
   "source": [
    "loss_and_metrics = model.evaluate(x_test, y_test)"
   ]
  },
  {
   "cell_type": "code",
   "execution_count": 34,
   "id": "1008e0f2",
   "metadata": {},
   "outputs": [
    {
     "data": {
      "image/png": "[encoded data removed]",
      "text/plain": [
       "<Figure size 432x288 with 1 Axes>"
      ]
     },
     "metadata": {
      "needs_background": "light"
     },
     "output_type": "display_data"
    }
   ],
   "source": [
    "plt.plot(history.history['loss'])\n",
    "plt.title('Model loss')\n",
    "plt.ylabel('Loss')\n",
    "plt.xlabel('Epoch')\n",
    "plt.legend(['Train', 'Test'], loc='upper left')\n",
    "plt.show()"
   ]
  },
  {
   "cell_type": "code",
   "execution_count": 2,
   "id": "b8f4027d",
   "metadata": {},
   "outputs": [
    {
     "name": "stdout",
     "output_type": "stream",
     "text": [
      "Metal device set to: Apple M1 Pro\n"
     ]
    },
    {
     "name": "stderr",
     "output_type": "stream",
     "text": [
      "2022-07-24 03:19:48.752062: I tensorflow/core/common_runtime/pluggable_device/pluggable_device_factory.cc:305] Could not identify NUMA node of platform GPU ID 0, defaulting to 0. Your kernel may not have been built with NUMA support.\n",
      "2022-07-24 03:19:48.752346: I tensorflow/core/common_runtime/pluggable_device/pluggable_device_factory.cc:271] Created TensorFlow device (/job:localhost/replica:0/task:0/device:GPU:0 with 0 MB memory) -> physical PluggableDevice (device: 0, name: METAL, pci bus id: <undefined>)\n"
     ]
    }
   ],
   "source": [
    "model = load_model('popularity.h5')"
   ]
  },
  {
   "cell_type": "code",
   "execution_count": 3,
   "id": "99771160",
   "metadata": {},
   "outputs": [
    {
     "data": {
      "image/png": "[encoded data removed]",
      "text/plain": [
       "<IPython.core.display.Image object>"
      ]
     },
     "execution_count": 3,
     "metadata": {},
     "output_type": "execute_result"
    }
   ],
   "source": [
    "from keras.utils.vis_utils import plot_model\n",
    "plot_model(model, to_file='model.png')"
   ]
  },
  {
   "cell_type": "code",
   "execution_count": null,
   "id": "0c698415",
   "metadata": {},
   "outputs": [],
   "source": []
  }
 ],
 "metadata": {
  "kernelspec": {
   "display_name": "Python 3 (ipykernel)",
   "language": "python",
   "name": "python3"
  },
  "language_info": {
   "codemirror_mode": {
    "name": "ipython",
    "version": 3
   },
   "file_extension": ".py",
   "mimetype": "text/x-python",
   "name": "python",
   "nbconvert_exporter": "python",
   "pygments_lexer": "ipython3",
   "version": "3.9.10"
  }
 },
 "nbformat": 4,
 "nbformat_minor": 5
}
